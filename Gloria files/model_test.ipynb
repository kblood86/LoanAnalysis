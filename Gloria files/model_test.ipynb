{
 "cells": [
  {
   "cell_type": "code",
   "execution_count": 1,
   "source": [
    "# Update sklearn to prevent version mismatches\r\n",
    "!pip install sklearn --upgrade"
   ],
   "outputs": [
    {
     "output_type": "stream",
     "name": "stdout",
     "text": [
      "Requirement already up-to-date: sklearn in c:\\users\\glori\\anaconda3\\lib\\site-packages (0.0)\n",
      "Requirement already satisfied, skipping upgrade: scikit-learn in c:\\users\\glori\\anaconda3\\lib\\site-packages (from sklearn) (0.23.2)\n",
      "Requirement already satisfied, skipping upgrade: scipy>=0.19.1 in c:\\users\\glori\\anaconda3\\lib\\site-packages (from scikit-learn->sklearn) (1.5.2)\n",
      "Requirement already satisfied, skipping upgrade: joblib>=0.11 in c:\\users\\glori\\anaconda3\\lib\\site-packages (from scikit-learn->sklearn) (0.17.0)\n",
      "Requirement already satisfied, skipping upgrade: threadpoolctl>=2.0.0 in c:\\users\\glori\\anaconda3\\lib\\site-packages (from scikit-learn->sklearn) (2.1.0)\n",
      "Requirement already satisfied, skipping upgrade: numpy>=1.13.3 in c:\\users\\glori\\anaconda3\\lib\\site-packages (from scikit-learn->sklearn) (1.19.2)\n"
     ]
    }
   ],
   "metadata": {}
  },
  {
   "cell_type": "code",
   "execution_count": 2,
   "source": [
    "# install joblib. This will be used to save your model. \r\n",
    "# Restart your kernel after installing \r\n",
    "!pip install joblib"
   ],
   "outputs": [
    {
     "output_type": "stream",
     "name": "stdout",
     "text": [
      "Requirement already satisfied: joblib in c:\\users\\glori\\anaconda3\\lib\\site-packages (0.17.0)\n"
     ]
    }
   ],
   "metadata": {}
  },
  {
   "cell_type": "code",
   "execution_count": 3,
   "source": [
    "import re\r\n",
    "import os\r\n",
    "\r\n",
    "import pandas as pd\r\n",
    "import numpy as np\r\n",
    "import seaborn as sns\r\n",
    "import matplotlib.pyplot as plt\r\n",
    "import datetime as dt"
   ],
   "outputs": [],
   "metadata": {}
  },
  {
   "cell_type": "code",
   "execution_count": 7,
   "source": [
    "file_path = \"Data/model_combine_data.csv\"\r\n"
   ],
   "outputs": [],
   "metadata": {}
  },
  {
   "cell_type": "code",
   "execution_count": 12,
   "source": [
    "my_data = pd.read_csv(file_path)\r\n",
    "my_data"
   ],
   "outputs": [
    {
     "output_type": "stream",
     "name": "stderr",
     "text": [
      "C:\\Users\\glori\\anaconda3\\lib\\site-packages\\IPython\\core\\interactiveshell.py:3146: DtypeWarning: Columns (4) have mixed types.Specify dtype option on import or set low_memory=False.\n",
      "  has_raised = await self.run_ast_nodes(code_ast.body, cell_name,\n"
     ]
    },
    {
     "output_type": "execute_result",
     "data": {
      "text/plain": [
       "         Unnamed: 0  loan_amnt  int_rate  fico_range_high    dti addr_state  \\\n",
       "0            421097     5000.0     20.39            669.0   21.8         OK   \n",
       "1            421098    15000.0      9.92            704.0  18.29         FL   \n",
       "2            421099    11200.0     30.79            669.0  43.97         NH   \n",
       "3            421100    25000.0     21.85            669.0  12.89         AL   \n",
       "4            421101     3000.0      7.34            764.0   0.58         WA   \n",
       "...             ...        ...       ...              ...    ...        ...   \n",
       "1081515    19698926        NaN       NaN            535.0  1.54%         CT   \n",
       "1081516    19698936        NaN       NaN            580.0  5.55%         TX   \n",
       "1081517    19698996        NaN       NaN            561.0     0%         OR   \n",
       "1081518    19699052        NaN       NaN            573.0  8.55%         NY   \n",
       "1081519    19699073        NaN       NaN            567.0     0%         AL   \n",
       "\n",
       "         emp_length             purpose Loan Status  loan_amt  \n",
       "0                 8               other    Accepted       NaN  \n",
       "1                 2  debt_consolidation    Accepted       NaN  \n",
       "2                 0             medical    Accepted       NaN  \n",
       "3                10  debt_consolidation    Accepted       NaN  \n",
       "4                 9      major_purchase    Accepted       NaN  \n",
       "...             ...                 ...         ...       ...  \n",
       "1081515           5    Medical expenses    Rejected    3000.0  \n",
       "1081516           0       Car financing    Rejected    6000.0  \n",
       "1081517           0  Debt consolidation    Rejected    3000.0  \n",
       "1081518           0               Other    Rejected    2500.0  \n",
       "1081519           2       Car financing    Rejected    2500.0  \n",
       "\n",
       "[1081520 rows x 10 columns]"
      ],
      "text/html": [
       "<div>\n",
       "<style scoped>\n",
       "    .dataframe tbody tr th:only-of-type {\n",
       "        vertical-align: middle;\n",
       "    }\n",
       "\n",
       "    .dataframe tbody tr th {\n",
       "        vertical-align: top;\n",
       "    }\n",
       "\n",
       "    .dataframe thead th {\n",
       "        text-align: right;\n",
       "    }\n",
       "</style>\n",
       "<table border=\"1\" class=\"dataframe\">\n",
       "  <thead>\n",
       "    <tr style=\"text-align: right;\">\n",
       "      <th></th>\n",
       "      <th>Unnamed: 0</th>\n",
       "      <th>loan_amnt</th>\n",
       "      <th>int_rate</th>\n",
       "      <th>fico_range_high</th>\n",
       "      <th>dti</th>\n",
       "      <th>addr_state</th>\n",
       "      <th>emp_length</th>\n",
       "      <th>purpose</th>\n",
       "      <th>Loan Status</th>\n",
       "      <th>loan_amt</th>\n",
       "    </tr>\n",
       "  </thead>\n",
       "  <tbody>\n",
       "    <tr>\n",
       "      <th>0</th>\n",
       "      <td>421097</td>\n",
       "      <td>5000.0</td>\n",
       "      <td>20.39</td>\n",
       "      <td>669.0</td>\n",
       "      <td>21.8</td>\n",
       "      <td>OK</td>\n",
       "      <td>8</td>\n",
       "      <td>other</td>\n",
       "      <td>Accepted</td>\n",
       "      <td>NaN</td>\n",
       "    </tr>\n",
       "    <tr>\n",
       "      <th>1</th>\n",
       "      <td>421098</td>\n",
       "      <td>15000.0</td>\n",
       "      <td>9.92</td>\n",
       "      <td>704.0</td>\n",
       "      <td>18.29</td>\n",
       "      <td>FL</td>\n",
       "      <td>2</td>\n",
       "      <td>debt_consolidation</td>\n",
       "      <td>Accepted</td>\n",
       "      <td>NaN</td>\n",
       "    </tr>\n",
       "    <tr>\n",
       "      <th>2</th>\n",
       "      <td>421099</td>\n",
       "      <td>11200.0</td>\n",
       "      <td>30.79</td>\n",
       "      <td>669.0</td>\n",
       "      <td>43.97</td>\n",
       "      <td>NH</td>\n",
       "      <td>0</td>\n",
       "      <td>medical</td>\n",
       "      <td>Accepted</td>\n",
       "      <td>NaN</td>\n",
       "    </tr>\n",
       "    <tr>\n",
       "      <th>3</th>\n",
       "      <td>421100</td>\n",
       "      <td>25000.0</td>\n",
       "      <td>21.85</td>\n",
       "      <td>669.0</td>\n",
       "      <td>12.89</td>\n",
       "      <td>AL</td>\n",
       "      <td>10</td>\n",
       "      <td>debt_consolidation</td>\n",
       "      <td>Accepted</td>\n",
       "      <td>NaN</td>\n",
       "    </tr>\n",
       "    <tr>\n",
       "      <th>4</th>\n",
       "      <td>421101</td>\n",
       "      <td>3000.0</td>\n",
       "      <td>7.34</td>\n",
       "      <td>764.0</td>\n",
       "      <td>0.58</td>\n",
       "      <td>WA</td>\n",
       "      <td>9</td>\n",
       "      <td>major_purchase</td>\n",
       "      <td>Accepted</td>\n",
       "      <td>NaN</td>\n",
       "    </tr>\n",
       "    <tr>\n",
       "      <th>...</th>\n",
       "      <td>...</td>\n",
       "      <td>...</td>\n",
       "      <td>...</td>\n",
       "      <td>...</td>\n",
       "      <td>...</td>\n",
       "      <td>...</td>\n",
       "      <td>...</td>\n",
       "      <td>...</td>\n",
       "      <td>...</td>\n",
       "      <td>...</td>\n",
       "    </tr>\n",
       "    <tr>\n",
       "      <th>1081515</th>\n",
       "      <td>19698926</td>\n",
       "      <td>NaN</td>\n",
       "      <td>NaN</td>\n",
       "      <td>535.0</td>\n",
       "      <td>1.54%</td>\n",
       "      <td>CT</td>\n",
       "      <td>5</td>\n",
       "      <td>Medical expenses</td>\n",
       "      <td>Rejected</td>\n",
       "      <td>3000.0</td>\n",
       "    </tr>\n",
       "    <tr>\n",
       "      <th>1081516</th>\n",
       "      <td>19698936</td>\n",
       "      <td>NaN</td>\n",
       "      <td>NaN</td>\n",
       "      <td>580.0</td>\n",
       "      <td>5.55%</td>\n",
       "      <td>TX</td>\n",
       "      <td>0</td>\n",
       "      <td>Car financing</td>\n",
       "      <td>Rejected</td>\n",
       "      <td>6000.0</td>\n",
       "    </tr>\n",
       "    <tr>\n",
       "      <th>1081517</th>\n",
       "      <td>19698996</td>\n",
       "      <td>NaN</td>\n",
       "      <td>NaN</td>\n",
       "      <td>561.0</td>\n",
       "      <td>0%</td>\n",
       "      <td>OR</td>\n",
       "      <td>0</td>\n",
       "      <td>Debt consolidation</td>\n",
       "      <td>Rejected</td>\n",
       "      <td>3000.0</td>\n",
       "    </tr>\n",
       "    <tr>\n",
       "      <th>1081518</th>\n",
       "      <td>19699052</td>\n",
       "      <td>NaN</td>\n",
       "      <td>NaN</td>\n",
       "      <td>573.0</td>\n",
       "      <td>8.55%</td>\n",
       "      <td>NY</td>\n",
       "      <td>0</td>\n",
       "      <td>Other</td>\n",
       "      <td>Rejected</td>\n",
       "      <td>2500.0</td>\n",
       "    </tr>\n",
       "    <tr>\n",
       "      <th>1081519</th>\n",
       "      <td>19699073</td>\n",
       "      <td>NaN</td>\n",
       "      <td>NaN</td>\n",
       "      <td>567.0</td>\n",
       "      <td>0%</td>\n",
       "      <td>AL</td>\n",
       "      <td>2</td>\n",
       "      <td>Car financing</td>\n",
       "      <td>Rejected</td>\n",
       "      <td>2500.0</td>\n",
       "    </tr>\n",
       "  </tbody>\n",
       "</table>\n",
       "<p>1081520 rows × 10 columns</p>\n",
       "</div>"
      ]
     },
     "metadata": {},
     "execution_count": 12
    }
   ],
   "metadata": {}
  },
  {
   "cell_type": "code",
   "execution_count": 15,
   "source": [
    "my_data['Loan Status'].value_counts()"
   ],
   "outputs": [
    {
     "output_type": "execute_result",
     "data": {
      "text/plain": [
       "Rejected    628344\n",
       "Accepted    453176\n",
       "Name: Loan Status, dtype: int64"
      ]
     },
     "metadata": {},
     "execution_count": 15
    }
   ],
   "metadata": {}
  },
  {
   "cell_type": "code",
   "execution_count": null,
   "source": [],
   "outputs": [],
   "metadata": {}
  }
 ],
 "metadata": {
  "orig_nbformat": 4,
  "language_info": {
   "name": "python",
   "version": "3.8.5",
   "mimetype": "text/x-python",
   "codemirror_mode": {
    "name": "ipython",
    "version": 3
   },
   "pygments_lexer": "ipython3",
   "nbconvert_exporter": "python",
   "file_extension": ".py"
  },
  "kernelspec": {
   "name": "python3",
   "display_name": "Python 3.8.5 64-bit ('base': conda)"
  },
  "interpreter": {
   "hash": "438c51e0305fa72305654196dacc74c4497b43c1e33d5e4fefa24655063d3e52"
  }
 },
 "nbformat": 4,
 "nbformat_minor": 2
}