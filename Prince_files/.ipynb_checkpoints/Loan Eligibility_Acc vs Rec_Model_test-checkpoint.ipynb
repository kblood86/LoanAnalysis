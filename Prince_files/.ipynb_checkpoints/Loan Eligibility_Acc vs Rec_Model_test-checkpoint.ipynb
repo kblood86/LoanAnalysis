{
 "cells": [
  {
   "cell_type": "code",
   "execution_count": 1,
   "id": "011ee24f-0fba-45a3-a618-a02215243d7e",
   "metadata": {},
   "outputs": [],
   "source": [
    "import re\n",
    "import os\n",
    "\n",
    "import pandas as pd\n",
    "import numpy as np\n",
    "import seaborn as sns\n",
    "import matplotlib.pyplot as plt\n",
    "import datetime as dt"
   ]
  },
  {
   "cell_type": "code",
   "execution_count": 2,
   "id": "23696826-ad78-435c-bb96-a6dc566fb609",
   "metadata": {},
   "outputs": [],
   "source": [
    "# File Paths\n",
    "data_path = \"Data/combined_results.csv\""
   ]
  },
  {
   "cell_type": "code",
   "execution_count": 3,
   "id": "047e4e80-2201-4e47-beac-2976ee3e3a95",
   "metadata": {},
   "outputs": [],
   "source": [
    "# reading in csv and converting to dataframes\n",
    "data = pd.read_csv(data_path, error_bad_lines=False,low_memory=False)"
   ]
  },
  {
   "cell_type": "code",
   "execution_count": 4,
   "id": "c03677ee-c20b-4963-a547-e7b50c14ba97",
   "metadata": {},
   "outputs": [
    {
     "data": {
      "text/html": [
       "<div>\n",
       "<style scoped>\n",
       "    .dataframe tbody tr th:only-of-type {\n",
       "        vertical-align: middle;\n",
       "    }\n",
       "\n",
       "    .dataframe tbody tr th {\n",
       "        vertical-align: top;\n",
       "    }\n",
       "\n",
       "    .dataframe thead th {\n",
       "        text-align: right;\n",
       "    }\n",
       "</style>\n",
       "<table border=\"1\" class=\"dataframe\">\n",
       "  <thead>\n",
       "    <tr style=\"text-align: right;\">\n",
       "      <th></th>\n",
       "      <th>Amount_Requested</th>\n",
       "      <th>Risk_Score</th>\n",
       "      <th>debt_to_income_ratio</th>\n",
       "      <th>State</th>\n",
       "      <th>Emp_length</th>\n",
       "      <th>Purpose</th>\n",
       "      <th>Loan_Status</th>\n",
       "    </tr>\n",
       "  </thead>\n",
       "  <tbody>\n",
       "    <tr>\n",
       "      <th>0</th>\n",
       "      <td>5000.0</td>\n",
       "      <td>669.0</td>\n",
       "      <td>21.80</td>\n",
       "      <td>OK</td>\n",
       "      <td>8</td>\n",
       "      <td>other</td>\n",
       "      <td>Accepted</td>\n",
       "    </tr>\n",
       "    <tr>\n",
       "      <th>1</th>\n",
       "      <td>15000.0</td>\n",
       "      <td>704.0</td>\n",
       "      <td>18.29</td>\n",
       "      <td>FL</td>\n",
       "      <td>2</td>\n",
       "      <td>debt_consolidation</td>\n",
       "      <td>Accepted</td>\n",
       "    </tr>\n",
       "    <tr>\n",
       "      <th>2</th>\n",
       "      <td>11200.0</td>\n",
       "      <td>669.0</td>\n",
       "      <td>43.97</td>\n",
       "      <td>NH</td>\n",
       "      <td>0</td>\n",
       "      <td>medical</td>\n",
       "      <td>Accepted</td>\n",
       "    </tr>\n",
       "    <tr>\n",
       "      <th>3</th>\n",
       "      <td>25000.0</td>\n",
       "      <td>669.0</td>\n",
       "      <td>12.89</td>\n",
       "      <td>AL</td>\n",
       "      <td>10</td>\n",
       "      <td>debt_consolidation</td>\n",
       "      <td>Accepted</td>\n",
       "    </tr>\n",
       "    <tr>\n",
       "      <th>4</th>\n",
       "      <td>3000.0</td>\n",
       "      <td>764.0</td>\n",
       "      <td>0.58</td>\n",
       "      <td>WA</td>\n",
       "      <td>9</td>\n",
       "      <td>major_purchase</td>\n",
       "      <td>Accepted</td>\n",
       "    </tr>\n",
       "    <tr>\n",
       "      <th>...</th>\n",
       "      <td>...</td>\n",
       "      <td>...</td>\n",
       "      <td>...</td>\n",
       "      <td>...</td>\n",
       "      <td>...</td>\n",
       "      <td>...</td>\n",
       "      <td>...</td>\n",
       "    </tr>\n",
       "    <tr>\n",
       "      <th>1081515</th>\n",
       "      <td>3000.0</td>\n",
       "      <td>535.0</td>\n",
       "      <td>1.54</td>\n",
       "      <td>CT</td>\n",
       "      <td>5</td>\n",
       "      <td>Medical expenses</td>\n",
       "      <td>Rejected</td>\n",
       "    </tr>\n",
       "    <tr>\n",
       "      <th>1081516</th>\n",
       "      <td>6000.0</td>\n",
       "      <td>580.0</td>\n",
       "      <td>5.55</td>\n",
       "      <td>TX</td>\n",
       "      <td>0</td>\n",
       "      <td>Car financing</td>\n",
       "      <td>Rejected</td>\n",
       "    </tr>\n",
       "    <tr>\n",
       "      <th>1081517</th>\n",
       "      <td>3000.0</td>\n",
       "      <td>561.0</td>\n",
       "      <td>0.00</td>\n",
       "      <td>OR</td>\n",
       "      <td>0</td>\n",
       "      <td>Debt consolidation</td>\n",
       "      <td>Rejected</td>\n",
       "    </tr>\n",
       "    <tr>\n",
       "      <th>1081518</th>\n",
       "      <td>2500.0</td>\n",
       "      <td>573.0</td>\n",
       "      <td>8.55</td>\n",
       "      <td>NY</td>\n",
       "      <td>0</td>\n",
       "      <td>Other</td>\n",
       "      <td>Rejected</td>\n",
       "    </tr>\n",
       "    <tr>\n",
       "      <th>1081519</th>\n",
       "      <td>2500.0</td>\n",
       "      <td>567.0</td>\n",
       "      <td>0.00</td>\n",
       "      <td>AL</td>\n",
       "      <td>2</td>\n",
       "      <td>Car financing</td>\n",
       "      <td>Rejected</td>\n",
       "    </tr>\n",
       "  </tbody>\n",
       "</table>\n",
       "<p>1081520 rows × 7 columns</p>\n",
       "</div>"
      ],
      "text/plain": [
       "         Amount_Requested  Risk_Score  debt_to_income_ratio State  Emp_length  \\\n",
       "0                  5000.0       669.0                 21.80    OK           8   \n",
       "1                 15000.0       704.0                 18.29    FL           2   \n",
       "2                 11200.0       669.0                 43.97    NH           0   \n",
       "3                 25000.0       669.0                 12.89    AL          10   \n",
       "4                  3000.0       764.0                  0.58    WA           9   \n",
       "...                   ...         ...                   ...   ...         ...   \n",
       "1081515            3000.0       535.0                  1.54    CT           5   \n",
       "1081516            6000.0       580.0                  5.55    TX           0   \n",
       "1081517            3000.0       561.0                  0.00    OR           0   \n",
       "1081518            2500.0       573.0                  8.55    NY           0   \n",
       "1081519            2500.0       567.0                  0.00    AL           2   \n",
       "\n",
       "                    Purpose Loan_Status  \n",
       "0                     other    Accepted  \n",
       "1        debt_consolidation    Accepted  \n",
       "2                   medical    Accepted  \n",
       "3        debt_consolidation    Accepted  \n",
       "4            major_purchase    Accepted  \n",
       "...                     ...         ...  \n",
       "1081515    Medical expenses    Rejected  \n",
       "1081516       Car financing    Rejected  \n",
       "1081517  Debt consolidation    Rejected  \n",
       "1081518               Other    Rejected  \n",
       "1081519       Car financing    Rejected  \n",
       "\n",
       "[1081520 rows x 7 columns]"
      ]
     },
     "execution_count": 4,
     "metadata": {},
     "output_type": "execute_result"
    }
   ],
   "source": [
    "data"
   ]
  },
  {
   "cell_type": "markdown",
   "id": "a34c761a-5f5c-47c3-8d62-42faeb7d181c",
   "metadata": {},
   "source": [
    "## Cont'd Exploratory Data analysis"
   ]
  },
  {
   "cell_type": "markdown",
   "id": "d29d7cc3-9a6e-451f-9c1c-4d0fb9cf59d8",
   "metadata": {},
   "source": [
    "#### Univariate exploration"
   ]
  },
  {
   "cell_type": "code",
   "execution_count": 5,
   "id": "04f05693-1fb1-4e6c-a6e3-e20f178f1067",
   "metadata": {},
   "outputs": [
    {
     "name": "stdout",
     "output_type": "stream",
     "text": [
      "Rejected    0.580982\n",
      "Accepted    0.419018\n",
      "Name: Loan_Status, dtype: float64\n"
     ]
    },
    {
     "data": {
      "text/plain": [
       "<AxesSubplot:title={'center':'Dependent Variable - Loan Status'}>"
      ]
     },
     "execution_count": 5,
     "metadata": {},
     "output_type": "execute_result"
    },
    {
     "data": {
      "image/png": "[encoded data removed]",
      "text/plain": [
       "<Figure size 504x360 with 1 Axes>"
      ]
     },
     "metadata": {
      "needs_background": "light"
     },
     "output_type": "display_data"
    }
   ],
   "source": [
    "# Understanding the split of our Accept/Reject - Our Target columns\n",
    "print(data['Loan_Status'].value_counts(normalize=True))\n",
    "\n",
    "data['Loan_Status'].value_counts().plot.bar(figsize=(7,5),title=\"Dependent Variable - Loan Status\")"
   ]
  },
  {
   "cell_type": "code",
   "execution_count": 6,
   "id": "08c7fa35-aa10-4524-9a4b-4aeb05849b35",
   "metadata": {},
   "outputs": [
    {
     "data": {
      "image/png": "[encoded data removed]",
      "text/plain": [
       "<Figure size 1440x360 with 1 Axes>"
      ]
     },
     "metadata": {
      "needs_background": "light"
     },
     "output_type": "display_data"
    },
    {
     "data": {
      "image/png": "[encoded data removed]",
      "text/plain": [
       "<Figure size 1440x360 with 1 Axes>"
      ]
     },
     "metadata": {
      "needs_background": "light"
     },
     "output_type": "display_data"
    }
   ],
   "source": [
    "# understanding split of all categorical Columns\n",
    "data['State'].value_counts().plot.bar(figsize=(20,5),title=\"State\")\n",
    "plt.show()\n",
    "data['Purpose'].value_counts().plot.bar(figsize=(20,5),title=\"Loan Purpose\")\n",
    "plt.show()"
   ]
  },
  {
   "cell_type": "code",
   "execution_count": 9,
   "id": "f1250e11-5833-4661-830b-316e1d840526",
   "metadata": {},
   "outputs": [
    {
     "name": "stderr",
     "output_type": "stream",
     "text": [
      "C:\\Users\\pamponsah\\AppData\\Local\\Continuum\\anaconda3\\lib\\site-packages\\seaborn\\distributions.py:2557: FutureWarning: `distplot` is a deprecated function and will be removed in a future version. Please adapt your code to use either `displot` (a figure-level function with similar flexibility) or `histplot` (an axes-level function for histograms).\n",
      "  warnings.warn(msg, FutureWarning)\n"
     ]
    },
    {
     "data": {
      "image/png": "[encoded data removed]",
      "text/plain": [
       "<Figure size 432x288 with 1 Axes>"
      ]
     },
     "metadata": {
      "needs_background": "light"
     },
     "output_type": "display_data"
    }
   ],
   "source": [
    "# understanding split of all Numeric Columns \n",
    "sns.distplot(data['Amount_Requested'])\n",
    "plt.show()"
   ]
  },
  {
   "cell_type": "markdown",
   "id": "2efc7faf-534e-4f79-8490-6af1a8d1e065",
   "metadata": {},
   "source": [
    "Heavily skewed to the left. a lot of outliers to consider"
   ]
  },
  {
   "cell_type": "code",
   "execution_count": 10,
   "id": "07f892c6-8cc4-403c-b0e9-8ea4d2ebe700",
   "metadata": {},
   "outputs": [
    {
     "name": "stderr",
     "output_type": "stream",
     "text": [
      "C:\\Users\\pamponsah\\AppData\\Local\\Continuum\\anaconda3\\lib\\site-packages\\seaborn\\distributions.py:2557: FutureWarning: `distplot` is a deprecated function and will be removed in a future version. Please adapt your code to use either `displot` (a figure-level function with similar flexibility) or `histplot` (an axes-level function for histograms).\n",
      "  warnings.warn(msg, FutureWarning)\n"
     ]
    },
    {
     "data": {
      "image/png": "[encoded data removed]",
      "text/plain": [
       "<Figure size 432x288 with 1 Axes>"
      ]
     },
     "metadata": {
      "needs_background": "light"
     },
     "output_type": "display_data"
    }
   ],
   "source": [
    "# understanding split of all Numeric Columns \n",
    "sns.distplot(data['Risk_Score'])\n",
    "plt.show()"
   ]
  },
  {
   "cell_type": "markdown",
   "id": "2281fd30-ce77-4bcd-914c-70dec6b23af8",
   "metadata": {},
   "source": [
    "Distribution is good"
   ]
  },
  {
   "cell_type": "code",
   "execution_count": 22,
   "id": "364cb67d-e333-4115-a87f-623511dec955",
   "metadata": {},
   "outputs": [
    {
     "name": "stdout",
     "output_type": "stream",
     "text": [
      "730426.5\n",
      "---------------\n",
      "0.0\n",
      "---------------\n",
      "         debt_to_income_ratio Loan_Status\n",
      "1081519                   0.0    Rejected\n",
      "72018                     0.0    Accepted\n",
      "912669                    0.0    Rejected\n",
      "912668                    0.0    Rejected\n",
      "912667                    0.0    Rejected\n",
      "...                       ...         ...\n",
      "752158               167650.0    Rejected\n",
      "922204               183650.0    Rejected\n",
      "810079               192200.0    Rejected\n",
      "811546               196100.0    Rejected\n",
      "783878               730426.5    Rejected\n",
      "\n",
      "[1081520 rows x 2 columns]\n"
     ]
    }
   ],
   "source": [
    "# understanding split of all Numeric Columns \n",
    "# sns.distplot(data['debt_to_income_ratio'])\n",
    "# plt.show()\n",
    "\n",
    "print(data['debt_to_income_ratio'].max())\n",
    "print('---------------')\n",
    "print(data['debt_to_income_ratio'].min())\n",
    "print('---------------')\n",
    "print(data[['debt_to_income_ratio','Loan_Status']].sort_values(by='debt_to_income_ratio'))"
   ]
  },
  {
   "cell_type": "code",
   "execution_count": 24,
   "id": "b5439b1b-b25e-4fc1-998b-cb5bf0a9dcfb",
   "metadata": {},
   "outputs": [],
   "source": [
    "# df[df.b > 10]\n",
    "dti_values_over100 = data[data.debt_to_income_ratio > 100]"
   ]
  },
  {
   "cell_type": "code",
   "execution_count": 26,
   "id": "a87ccdb8-4616-4743-9d41-f1493d4b2d62",
   "metadata": {},
   "outputs": [
    {
     "name": "stdout",
     "output_type": "stream",
     "text": [
      "<class 'pandas.core.frame.DataFrame'>\n",
      "Int64Index: 22081 entries, 493 to 1081423\n",
      "Data columns (total 7 columns):\n",
      " #   Column                Non-Null Count  Dtype  \n",
      "---  ------                --------------  -----  \n",
      " 0   Amount_Requested      22081 non-null  float64\n",
      " 1   Risk_Score            22081 non-null  float64\n",
      " 2   debt_to_income_ratio  22081 non-null  float64\n",
      " 3   State                 22081 non-null  object \n",
      " 4   Emp_length            22081 non-null  int64  \n",
      " 5   Purpose               22081 non-null  object \n",
      " 6   Loan_Status           22081 non-null  object \n",
      "dtypes: float64(3), int64(1), object(3)\n",
      "memory usage: 1.3+ MB\n",
      "None\n"
     ]
    },
    {
     "data": {
      "text/html": [
       "<div>\n",
       "<style scoped>\n",
       "    .dataframe tbody tr th:only-of-type {\n",
       "        vertical-align: middle;\n",
       "    }\n",
       "\n",
       "    .dataframe tbody tr th {\n",
       "        vertical-align: top;\n",
       "    }\n",
       "\n",
       "    .dataframe thead th {\n",
       "        text-align: right;\n",
       "    }\n",
       "</style>\n",
       "<table border=\"1\" class=\"dataframe\">\n",
       "  <thead>\n",
       "    <tr style=\"text-align: right;\">\n",
       "      <th></th>\n",
       "      <th>Amount_Requested</th>\n",
       "      <th>Risk_Score</th>\n",
       "      <th>debt_to_income_ratio</th>\n",
       "      <th>State</th>\n",
       "      <th>Emp_length</th>\n",
       "      <th>Purpose</th>\n",
       "      <th>Loan_Status</th>\n",
       "    </tr>\n",
       "  </thead>\n",
       "  <tbody>\n",
       "    <tr>\n",
       "      <th>493</th>\n",
       "      <td>28000.0</td>\n",
       "      <td>704.0</td>\n",
       "      <td>112.20</td>\n",
       "      <td>NV</td>\n",
       "      <td>0</td>\n",
       "      <td>debt_consolidation</td>\n",
       "      <td>Accepted</td>\n",
       "    </tr>\n",
       "    <tr>\n",
       "      <th>643</th>\n",
       "      <td>40000.0</td>\n",
       "      <td>709.0</td>\n",
       "      <td>101.46</td>\n",
       "      <td>OH</td>\n",
       "      <td>4</td>\n",
       "      <td>debt_consolidation</td>\n",
       "      <td>Accepted</td>\n",
       "    </tr>\n",
       "    <tr>\n",
       "      <th>1229</th>\n",
       "      <td>10000.0</td>\n",
       "      <td>714.0</td>\n",
       "      <td>114.27</td>\n",
       "      <td>TX</td>\n",
       "      <td>9</td>\n",
       "      <td>debt_consolidation</td>\n",
       "      <td>Accepted</td>\n",
       "    </tr>\n",
       "    <tr>\n",
       "      <th>1683</th>\n",
       "      <td>9000.0</td>\n",
       "      <td>684.0</td>\n",
       "      <td>106.66</td>\n",
       "      <td>IL</td>\n",
       "      <td>4</td>\n",
       "      <td>credit_card</td>\n",
       "      <td>Accepted</td>\n",
       "    </tr>\n",
       "    <tr>\n",
       "      <th>1879</th>\n",
       "      <td>35000.0</td>\n",
       "      <td>714.0</td>\n",
       "      <td>102.47</td>\n",
       "      <td>UT</td>\n",
       "      <td>0</td>\n",
       "      <td>debt_consolidation</td>\n",
       "      <td>Accepted</td>\n",
       "    </tr>\n",
       "  </tbody>\n",
       "</table>\n",
       "</div>"
      ],
      "text/plain": [
       "      Amount_Requested  Risk_Score  debt_to_income_ratio State  Emp_length  \\\n",
       "493            28000.0       704.0                112.20    NV           0   \n",
       "643            40000.0       709.0                101.46    OH           4   \n",
       "1229           10000.0       714.0                114.27    TX           9   \n",
       "1683            9000.0       684.0                106.66    IL           4   \n",
       "1879           35000.0       714.0                102.47    UT           0   \n",
       "\n",
       "                 Purpose Loan_Status  \n",
       "493   debt_consolidation    Accepted  \n",
       "643   debt_consolidation    Accepted  \n",
       "1229  debt_consolidation    Accepted  \n",
       "1683         credit_card    Accepted  \n",
       "1879  debt_consolidation    Accepted  "
      ]
     },
     "execution_count": 26,
     "metadata": {},
     "output_type": "execute_result"
    }
   ],
   "source": [
    "print(dti_values_over100.info())\n",
    "dti_values_over100.head()"
   ]
  }
 ],
 "metadata": {
  "kernelspec": {
   "display_name": "Python 3",
   "language": "python",
   "name": "python3"
  },
  "language_info": {
   "codemirror_mode": {
    "name": "ipython",
    "version": 3
   },
   "file_extension": ".py",
   "mimetype": "text/x-python",
   "name": "python",
   "nbconvert_exporter": "python",
   "pygments_lexer": "ipython3",
   "version": "3.7.3"
  }
 },
 "nbformat": 4,
 "nbformat_minor": 5
}
